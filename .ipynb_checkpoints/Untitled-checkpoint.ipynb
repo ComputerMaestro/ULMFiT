{
 "cells": [
  {
   "cell_type": "code",
   "execution_count": 1,
   "metadata": {},
   "outputs": [
    {
     "data": {
      "text/plain": [
       "LanguageModel"
      ]
     },
     "execution_count": 1,
     "metadata": {},
     "output_type": "execute_result"
    }
   ],
   "source": [
    "using Flux\n",
    "\n",
    "init_weights(dims...) = rand(Float32, dims...) .* sqrt(1/1150)\n",
    "\n",
    "a = LSTM(400, 1150; init = init_weights)\n",
    "# Initializing wegiths between [-1/sqrt(H), 1/sqrt(H)] H = hidden size"
   ]
  },
  {
   "cell_type": "code",
   "execution_count": 2,
   "metadata": {},
   "outputs": [
    {
     "data": {
      "text/plain": [
       "LanguageModel([0.0941891 0.0551141 … 0.0658747 0.0672926; 0.0956207 0.0253594 … 0.0320328 0.0894783; … ; 0.0235151 0.000167877 … 0.059368 0.0668135; 0.0271961 0.0374485 … 0.0983765 0.0844762] (tracked), Recur(LSTMCell(400, 1150)), Recur(LSTMCell(1150, 1150)), Recur(LSTMCell(1150, 400)))"
      ]
     },
     "execution_count": 2,
     "metadata": {},
     "output_type": "execute_result"
    }
   ],
   "source": [
    "mutable struct LanguageModel\n",
    "    embedMat :: TrackedArray\n",
    "    lstmLayer1 :: Flux.Recur\n",
    "    lstmLayer2 :: Flux.Recur\n",
    "    lstmLayer3 :: Flux.Recur\n",
    "    embedDropProb :: Float64\n",
    "    wordDropout :: Dropout\n",
    "    hiddenDropout :: Dropout\n",
    "    LayerDropProb :: Float64\n",
    "    FinalDropProb :: Float64\n",
    "    RecurrentLayers :: Chain\n",
    "\n",
    "    function LanguageModel(;embedDropProb::Float64 = 0.05, wordDropProb::Float64 = 0.4, hidDropProb::Float64 = 0.5, LayerDropProb::Float64 = 0.3, FinalDropProb::Float64 = 0.4)\n",
    "        lm = new(\n",
    "            param(rand(10, 5) .* 0.1),\n",
    "            LSTM(400, 1150; init_weights),\n",
    "            LSTM(1150, 1150),\n",
    "            LSTM(1150, 400),\n",
    "            embedDropProb,\n",
    "            Dropout(wordDropProb),\n",
    "            Dropout(hidDropProb),\n",
    "            LayerDropProb,\n",
    "            FinalDropProb\n",
    "        )\n",
    "\n",
    "        lm.lstmLayer1.cell.Wh = param(rand(Float32, size(lm.lstmLayer1.cell.Wh)) .* sqrt(1/1150))\n",
    "        lm.lstmLayer2.cell.Wh = param(rand(Float32, size(lm.lstmLayer2.cell.Wh)) .* sqrt(1/1150))\n",
    "        lm.lstmLayer3.cell.Wh = param(rand(Float32, size(lm.lstmLayer3.cell.Wh)) .* sqrt(1/1150))\n",
    "        lm.lstmLayer1.cell.Wi = param(rand(Float32, size(lm.lstmLayer1.cell.Wi)) .* sqrt(1/1150))\n",
    "        lm.lstmLayer2.cell.Wi = param(rand(Float32, size(lm.lstmLayer2.cell.Wi)) .* sqrt(1/1150))\n",
    "        lm.lstmLayer3.cell.Wi = param(rand(Float32, size(lm.lstmLayer3.cell.Wi)) .* sqrt(1/1150))\n",
    "\n",
    "        lm.RecurrentLayers = Chain(\n",
    "            lm.lstmLayer1,\n",
    "            Dropout(LayerDropProb),\n",
    "            lm.lstmLayer2,\n",
    "            Dropout(LayerDropProb),\n",
    "            lm.lstmLayer3,\n",
    "            Dropout(FinalDropProb)\n",
    "        )\n",
    "\n",
    "        return lm\n",
    "    end\n",
    "end"
   ]
  }
 ],
 "metadata": {
  "@webio": {
   "lastCommId": null,
   "lastKernelId": null
  },
  "kernelspec": {
   "display_name": "Julia 1.0.3",
   "language": "julia",
   "name": "julia-1.0"
  },
  "language_info": {
   "file_extension": ".jl",
   "mimetype": "application/julia",
   "name": "julia",
   "version": "1.0.3"
  }
 },
 "nbformat": 4,
 "nbformat_minor": 2
}
